{
 "cells": [
  {
   "cell_type": "code",
   "execution_count": 57,
   "metadata": {},
   "outputs": [],
   "source": [
    "import sys\n",
    "import time\n",
    "import os\n",
    "from watchdog.observers import Observer\n",
    "from watchdog.events import FileSystemEventHandler\n",
    "from astropy.io import fits\n",
    "\n",
    "class Watcher:\n",
    "    DIRECTORY_TO_WATCH = \".\"\n",
    "    NUM_TO_SKIP = 5\n",
    "    \n",
    "\n",
    "    def __init__(self,dirName, numToSkip):\n",
    "        self.observer = Observer()\n",
    "        self.DIRECTORY_TO_WATCH = dirName\n",
    "        self.NUM_TO_SKIP=numToSkip\n",
    "        print(\"Monitoring - %s render each %d.\"% (self.DIRECTORY_TO_WATCH , self.NUM_TO_SKIP))\n",
    "\n",
    "\n",
    "    def run(self):\n",
    "        event_handler = Handler(self.NUM_TO_SKIP)\n",
    "        self.observer.schedule(event_handler, self.DIRECTORY_TO_WATCH, recursive=True)\n",
    "        self.observer.start()\n",
    "        try:\n",
    "            while True:\n",
    "                time.sleep(5)\n",
    "        except:\n",
    "            self.observer.stop()\n",
    "            print(\"Error\")\n",
    "\n",
    "        self.observer.join()\n",
    "\n",
    "class Handler(FileSystemEventHandler):\n",
    "    COUNT=0\n",
    "    NUM_TO_SKIP=0\n",
    "    \n",
    "    def __init__(self,skip):\n",
    "        Handler.COUNT=0\n",
    "        Handler.NUM_TO_SKIP=skip\n",
    "    \n",
    "    @staticmethod\n",
    "    def on_any_event(event):\n",
    "        if event.is_directory:\n",
    "            return None\n",
    "\n",
    "        elif event.event_type == 'created':\n",
    "            # Take any action here when a file is first created.\n",
    "            print(\"Received created event - %s.\" % event.src_path)\n",
    "            Handler.COUNT = Handler.COUNT + 1\n",
    "            if (Handler.COUNT % Handler.NUM_TO_SKIP == 0):\n",
    "                Handler.render(event.src_path)\n",
    "\n",
    "\n",
    "    @staticmethod\n",
    "    def render(filePath):\n",
    "        print(\"Will render - %s.\" % filePath)\n"
   ]
  },
  {
   "cell_type": "code",
   "execution_count": null,
   "metadata": {},
   "outputs": [
    {
     "name": "stdout",
     "output_type": "stream",
     "text": [
      "Monitoring - ../tmp render each 3.\n",
      "Received created event - ../tmp/a.\n",
      "Received created event - ../tmp/b.\n",
      "Received created event - ../tmp/c.\n",
      "Will render - ../tmp/c.\n",
      "Received created event - ../tmp/d.\n",
      "Received created event - ../tmp/e.\n"
     ]
    }
   ],
   "source": [
    "    d = \"../tmp\"\n",
    "    w = Watcher(d,3)\n",
    "    w.run()\n"
   ]
  },
  {
   "cell_type": "code",
   "execution_count": null,
   "metadata": {},
   "outputs": [],
   "source": []
  },
  {
   "cell_type": "code",
   "execution_count": null,
   "metadata": {},
   "outputs": [],
   "source": []
  }
 ],
 "metadata": {
  "kernelspec": {
   "display_name": "Python 3",
   "language": "python",
   "name": "python3"
  },
  "language_info": {
   "codemirror_mode": {
    "name": "ipython",
    "version": 3
   },
   "file_extension": ".py",
   "mimetype": "text/x-python",
   "name": "python",
   "nbconvert_exporter": "python",
   "pygments_lexer": "ipython3",
   "version": "3.6.3"
  }
 },
 "nbformat": 4,
 "nbformat_minor": 2
}
